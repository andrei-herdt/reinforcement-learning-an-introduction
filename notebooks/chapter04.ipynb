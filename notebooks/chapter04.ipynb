{
 "cells": [
  {
   "cell_type": "markdown",
   "metadata": {},
   "source": [
    "# Exercise 4.2"
   ]
  },
  {
   "cell_type": "markdown",
   "metadata": {},
   "source": [
    "\\begin{align}\n",
    "v_{\\pi}(s_{t}) &= \\mathbb{E}[R_{t+1}+\\gamma v_\\pi(S_{t+1})] \\\\\n",
    "&=\\sum_a \\pi(a|s) \\sum_{s`,r} p(s`,r\\vert s,a)[r+\\gamma v_\\pi(s`)], \\\\\n",
    "\\text{since state transitions are deterministic}, \\\\\n",
    "&= \\frac{1}{4}\n",
    "(\n",
    "-1 - \\gamma 22\n",
    "-1 - \\gamma 20\n",
    "-1 - \\gamma 14\n",
    "-1 - \\gamma V(15)\n",
    "), \\\\\n",
    "\\text{and if state 13 transitions to state 15:} \\\\\n",
    "&= \\frac{1}{4}\n",
    "(\n",
    "-1 - \\gamma 22\n",
    "-1 - \\gamma V(13)\n",
    "-1 - \\gamma 14\n",
    "-1 - \\gamma V(15)\n",
    ")\n",
    "\\end{align}\n"
   ]
  },
  {
   "cell_type": "markdown",
   "metadata": {},
   "source": [
    "# Exercise 4.3"
   ]
  },
  {
   "cell_type": "markdown",
   "metadata": {},
   "source": [
    "\\begin{align}\n",
    "q_\\pi(s, a) &= \\mathbb{E}[R_{t+1}+\\gamma v_\\pi(S_{t+1}) \\vert S_t =s, A_t = a] \\\\\n",
    "\\text{since the next action has been decided} \\\\\n",
    "&= \\sum_{s`,r}p(s`,r \\vert s, a)(r+\\gamma v(s`)) \\\\\n",
    "&= \\sum_{s`,r}p(s`,r \\vert s, a)(r+\\gamma q(s` \\vert a`))\n",
    "\\end{align}\n",
    "Then the update rule is:\n",
    "\\begin{align}\n",
    "q_{k+1}(s, a) = \\sum_{s`,r}p(s`,r \\vert s, a)(r+\\gamma q_k(s` \\vert a`))\n",
    "\\end{align}"
   ]
  },
  {
   "cell_type": "code",
   "execution_count": null,
   "metadata": {},
   "outputs": [],
   "source": []
  }
 ],
 "metadata": {
  "kernelspec": {
   "display_name": "Python 3",
   "language": "python",
   "name": "python3"
  },
  "language_info": {
   "codemirror_mode": {
    "name": "ipython",
    "version": 3
   },
   "file_extension": ".py",
   "mimetype": "text/x-python",
   "name": "python",
   "nbconvert_exporter": "python",
   "pygments_lexer": "ipython3",
   "version": "3.5.2"
  }
 },
 "nbformat": 4,
 "nbformat_minor": 2
}
