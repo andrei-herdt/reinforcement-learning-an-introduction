{
 "cells": [
  {
   "cell_type": "markdown",
   "metadata": {},
   "source": [
    "# Exercise 9.1"
   ]
  },
  {
   "cell_type": "markdown",
   "metadata": {},
   "source": [
    "\\begin{align}\n",
    "x_{i}(s) &= \\prod_{j=1}^{k}s_{j}^{c_{i,j}}\n",
    "\\end{align}\n",
    "We have $n+1$ different exponents, for every of the $k$ dimensions. Thus, the $(n+1)^k$ combinations of $s_{j}^{c_{i,j}}$ is the number of basis features that can be represented this way."
   ]
  },
  {
   "cell_type": "markdown",
   "metadata": {},
   "source": [
    "# Exercise 9.2"
   ]
  },
  {
   "cell_type": "markdown",
   "metadata": {},
   "source": [
    "The hightest exponent being 2 and the maximal number of factors being 2, $n=2"
   ]
  },
  {
   "cell_type": "markdown",
   "metadata": {},
   "source": [
    "# Exercise 4.3"
   ]
  },
  {
   "cell_type": "markdown",
   "metadata": {},
   "source": [
    "\\begin{align}\n",
    "q_\\pi(s, a) &= \\mathbb{E}[R_{t+1}+\\gamma v_\\pi(S_{t+1}) \\vert S_t =s, A_t = a] \\\\\n",
    "\\text{since the next action has been decided} \\\\\n",
    "&= \\sum_{s`,r}p(s`,r \\vert s, a)(r+\\gamma v(s`)) \\\\\n",
    "&= \\sum_{s`,r}p(s`,r \\vert s, a)(r+\\gamma q(s` \\vert a`))\n",
    "\\end{align}\n",
    "Then the update rule is:\n",
    "\\begin{align}\n",
    "q_{k+1}(s, a) = \\sum_{s`,r}p(s`,r \\vert s, a)(r+\\gamma q_k(s` \\vert a`))\n",
    "\\end{align}"
   ]
  },
  {
   "cell_type": "markdown",
   "metadata": {},
   "source": [
    "# Exercise 4.5"
   ]
  },
  {
   "cell_type": "markdown",
   "metadata": {},
   "source": [
    "\\begin{align}\n",
    "Q(s,a) \\leftarrow \\sum_{s`,r}p(s`,r \\vert s,a)[r+Q(s`,a`)] \\\\\n",
    "\\pi(s) = \\leftarrow \\text{arg max}_{a`} \\sum_{s`,r}p(s`,r\\vert s, a)[r+Q(s`,a`)]\n",
    "\\end{align}"
   ]
  },
  {
   "cell_type": "markdown",
   "metadata": {},
   "source": [
    "# Exercise 4.6"
   ]
  },
  {
   "cell_type": "markdown",
   "metadata": {},
   "source": [
    "Step 3:\n",
    "\\begin{align}\n",
    "\\pi(s) \\leftarrow \\text{arg max}_{a} \\pi(a\\vert s)\\sum_{s`,r}p(s`,r\\vert s, a)[r+V(s`)]\n",
    "\\end{align}\n",
    "Step 2:\n",
    "\\begin{align}\n",
    "V(s) \\leftarrow \\sum_a \\pi(a\\vert s)\\sum_{s`,r}p(s`,r\\vert s, \\pi(s))[r+V(s`)]\n",
    "\\end{align}\n",
    "Step 1:\n",
    "unchanged"
   ]
  },
  {
   "cell_type": "markdown",
   "metadata": {},
   "source": [
    "# Exercise 4.10"
   ]
  },
  {
   "cell_type": "code",
   "execution_count": null,
   "metadata": {},
   "outputs": [],
   "source": [
    "\\begin{align}\n",
    "\\pi(s) \\leftarrow \\text{arg max}_{a} \\pi(a\\vert s)\\sum_{s`,r}p(s`,r\\vert s, a)[r+V(s`)]\n",
    "\\end{align}"
   ]
  },
  {
   "cell_type": "code",
   "execution_count": null,
   "metadata": {},
   "outputs": [],
   "source": []
  }
 ],
 "metadata": {
  "kernelspec": {
   "display_name": "Python 3",
   "language": "python",
   "name": "python3"
  },
  "language_info": {
   "codemirror_mode": {
    "name": "ipython",
    "version": 3
   },
   "file_extension": ".py",
   "mimetype": "text/x-python",
   "name": "python",
   "nbconvert_exporter": "python",
   "pygments_lexer": "ipython3",
   "version": "3.5.2"
  }
 },
 "nbformat": 4,
 "nbformat_minor": 2
}
